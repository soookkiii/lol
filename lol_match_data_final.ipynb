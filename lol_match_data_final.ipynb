{
 "cells": [
  {
   "cell_type": "code",
   "execution_count": 1,
   "metadata": {},
   "outputs": [],
   "source": [
    "import pandas as pd\n",
    "from pprint import pprint\n",
    "import ast"
   ]
  },
  {
   "attachments": {},
   "cell_type": "markdown",
   "metadata": {},
   "source": [
    "## 데이터 불러오기"
   ]
  },
  {
   "cell_type": "code",
   "execution_count": null,
   "metadata": {},
   "outputs": [],
   "source": [
    "match_df = pd.read_csv('match_data_version1.csv')\n",
    "match_df.shape"
   ]
  },
  {
   "attachments": {},
   "cell_type": "markdown",
   "metadata": {},
   "source": [
    "### 형태 보기"
   ]
  },
  {
   "cell_type": "code",
   "execution_count": null,
   "metadata": {},
   "outputs": [],
   "source": [
    "match_df.shape[0]"
   ]
  },
  {
   "cell_type": "code",
   "execution_count": null,
   "metadata": {},
   "outputs": [],
   "source": [
    "list(match_df.columns)"
   ]
  },
  {
   "cell_type": "code",
   "execution_count": null,
   "metadata": {},
   "outputs": [],
   "source": [
    "match_df.head()"
   ]
  },
  {
   "cell_type": "code",
   "execution_count": null,
   "metadata": {},
   "outputs": [],
   "source": [
    "match_df = match_df.drop(['Unnamed: 0','gameCreation','gameMode','gameType','mapId','platformId','seasonId','status.message','status.status_code'], axis=1)"
   ]
  },
  {
   "cell_type": "code",
   "execution_count": null,
   "metadata": {},
   "outputs": [],
   "source": [
    "match_df.head()"
   ]
  },
  {
   "cell_type": "code",
   "execution_count": null,
   "metadata": {},
   "outputs": [],
   "source": [
    "pprint(eval(match_df['participantIdentities'][1]))"
   ]
  },
  {
   "cell_type": "code",
   "execution_count": null,
   "metadata": {},
   "outputs": [],
   "source": [
    "pprint(eval(match_df['participants'][1]))"
   ]
  },
  {
   "cell_type": "code",
   "execution_count": null,
   "metadata": {},
   "outputs": [],
   "source": [
    "a = ast.literal_eval(match_df['participants'][1])\n",
    "type(a[0])"
   ]
  },
  {
   "attachments": {},
   "cell_type": "markdown",
   "metadata": {},
   "source": [
    "## 함수 만들기 "
   ]
  },
  {
   "cell_type": "code",
   "execution_count": null,
   "metadata": {},
   "outputs": [],
   "source": [
    "column_list=list(match_df.columns)\n",
    "value_list = []\n",
    "\n",
    "def solve_dict_column(dict_to_iterate, upper_key=None, pID = None):            # 하드 코딩, 추후 수정 필요\n",
    "    global column_list\n",
    "    global value_list\n",
    "    for key, value in dict_to_iterate.items():\n",
    "        if key == 'participantId':\n",
    "            pID = 'P' + str(value)\n",
    "        \n",
    "        if type(value) == dict:\n",
    "            solve_dict_column(value, key, pID)\n",
    "        else:\n",
    "            if upper_key == None:\n",
    "                column_list.append(pID+ '_' + key)\n",
    "\n",
    "            else :\n",
    "                column_list.append(pID + '_' + str(upper_key) + '_' + key)\n",
    "            value_list.append(value)"
   ]
  },
  {
   "cell_type": "code",
   "execution_count": null,
   "metadata": {},
   "outputs": [],
   "source": [
    "final = pd.DataFrame()\n",
    "\n",
    "n = match_df.shape[0]\n",
    "except_list = []\n",
    "for i in range(n):\n",
    "    temp = pd.DataFrame()\n",
    "    column_list = []\n",
    "    value_list = []\n",
    "    if (len(eval(match_df.iloc[i]['participants'])) ==10) and  (len(eval(match_df.iloc[i]['participantIdentities'])) == 10):\n",
    "        for x,y in enumerate([0,1,2,5]):\n",
    "            column_list.append(match_df.columns[y])\n",
    "            value_list.append(match_df.loc[i][y])\n",
    "        for j in range(10):\n",
    "            solve_dict_column(ast.literal_eval(match_df['participants'][i])[j])\n",
    "            solve_dict_column(ast.literal_eval(match_df['participantIdentities'][i])[j])\n",
    "\n",
    "        d=[]\n",
    "        new_d = [] # 중복된 원소만 넣는 리스트\n",
    "        for k in column_list:\n",
    "            if k not in d: # 처음 등장한 원소\n",
    "                d.append(k)\n",
    "            else:\n",
    "                if k not in new_d: # 이미 중복 원소로 판정된 경우는 제외\n",
    "                    new_d.append(k)\n",
    "\n",
    "        new_d # [1, 2] # 2회 이상 등장한 값들만 담긴 리스트\n",
    "        \n",
    "        temp = pd.DataFrame(data=[value_list], columns=column_list)\n",
    "        temp = temp.drop(new_d, axis=1)\n",
    "\n",
    "        final = pd.concat([final, temp], axis=0)\n",
    "    else:\n",
    "        except_list.append(i)\n",
    "\n",
    "    if (i%1000) == 0:\n",
    "        print(i)\n",
    "\n",
    "\n",
    "final.head()"
   ]
  },
  {
   "cell_type": "code",
   "execution_count": null,
   "metadata": {},
   "outputs": [],
   "source": [
    "final.to_csv(\"make_final.csv\", mode='w')"
   ]
  }
 ],
 "metadata": {
  "kernelspec": {
   "display_name": "Python 3",
   "language": "python",
   "name": "python3"
  },
  "language_info": {
   "codemirror_mode": {
    "name": "ipython",
    "version": 3
   },
   "file_extension": ".py",
   "mimetype": "text/x-python",
   "name": "python",
   "nbconvert_exporter": "python",
   "pygments_lexer": "ipython3",
   "version": "3.10.8"
  },
  "orig_nbformat": 4,
  "vscode": {
   "interpreter": {
    "hash": "d3e10ef16274dd72e574b8fa73b58450b957d8421a2901baded3cca26fcf5dda"
   }
  }
 },
 "nbformat": 4,
 "nbformat_minor": 2
}
